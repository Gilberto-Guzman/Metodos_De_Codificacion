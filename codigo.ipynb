{
 "cells": [
  {
   "cell_type": "markdown",
   "metadata": {},
   "source": [
    "### 1. Codificación ASCII:\n",
    "\n",
    "Descripción: Codifica caracteres en valores numéricos de 7 bits."
   ]
  },
  {
   "cell_type": "code",
   "execution_count": 37,
   "metadata": {},
   "outputs": [
    {
     "name": "stdout",
     "output_type": "stream",
     "text": [
      "[161, 72, 111, 108, 97, 44, 32, 109, 117, 110, 100, 111, 33]\n"
     ]
    }
   ],
   "source": [
    "texto = \"¡Hola, mundo!\"\n",
    "ascii_codificado = [ord(char) for char in texto]\n",
    "print(ascii_codificado)"
   ]
  },
  {
   "cell_type": "markdown",
   "metadata": {},
   "source": [
    "### 2. Codificación UTF-8:\n",
    "\n",
    "Descripción: Codificación de caracteres Unicode en bytes variables."
   ]
  },
  {
   "cell_type": "code",
   "execution_count": 38,
   "metadata": {},
   "outputs": [
    {
     "name": "stdout",
     "output_type": "stream",
     "text": [
      "b'\\xc2\\xa1Hola, mundo!'\n"
     ]
    }
   ],
   "source": [
    "texto = \"¡Hola, mundo!\"\n",
    "utf8_codificado = texto.encode('utf-8')\n",
    "print(utf8_codificado)"
   ]
  },
  {
   "cell_type": "markdown",
   "metadata": {},
   "source": [
    "### 3. Codificación Base64:\n",
    "\n",
    "Descripción: Codifica datos binarios en una cadena de caracteres ASCII."
   ]
  },
  {
   "cell_type": "code",
   "execution_count": 39,
   "metadata": {},
   "outputs": [
    {
     "name": "stdout",
     "output_type": "stream",
     "text": [
      "b'SG9sYSwgbXVuZG8h'\n"
     ]
    }
   ],
   "source": [
    "import base64\n",
    "\n",
    "data = b'Hola, mundo!'\n",
    "base64_codificado = base64.b64encode(data)\n",
    "print(base64_codificado)"
   ]
  },
  {
   "cell_type": "markdown",
   "metadata": {},
   "source": [
    "### 4. Codificación JSON:\n",
    "\n",
    "Descripción: Convierte datos estructurados en una cadena de caracteres JSON."
   ]
  },
  {
   "cell_type": "code",
   "execution_count": 40,
   "metadata": {},
   "outputs": [
    {
     "name": "stdout",
     "output_type": "stream",
     "text": [
      "{\"nombre\": \"Gilberto\", \"edad\": 20}\n"
     ]
    }
   ],
   "source": [
    "import json\n",
    "\n",
    "data = {\"nombre\": \"Gilberto\", \"edad\": 20}\n",
    "json_codificado = json.dumps(data)\n",
    "print(json_codificado)"
   ]
  },
  {
   "cell_type": "markdown",
   "metadata": {},
   "source": [
    "### 5. Codificación URL:\n",
    "\n",
    "Descripción: Codifica caracteres especiales para que sean seguros en una URL."
   ]
  },
  {
   "cell_type": "code",
   "execution_count": 41,
   "metadata": {},
   "outputs": [
    {
     "name": "stdout",
     "output_type": "stream",
     "text": [
      "Espacio%26Signo%2BM%C3%A1s\n"
     ]
    }
   ],
   "source": [
    "import urllib.parse\n",
    "\n",
    "texto = \"Espacio&Signo+Más\"\n",
    "url_codificado = urllib.parse.quote(texto)\n",
    "print(url_codificado)"
   ]
  },
  {
   "cell_type": "markdown",
   "metadata": {},
   "source": [
    "### 6. Codificación Morse:\n",
    "\n",
    "Descripción: Codifica texto en señales de audio o luz."
   ]
  },
  {
   "cell_type": "code",
   "execution_count": 42,
   "metadata": {},
   "outputs": [
    {
     "name": "stdout",
     "output_type": "stream",
     "text": [
      ".... --- .-.. .-\n"
     ]
    }
   ],
   "source": [
    "morse_code = {\n",
    "    'A': '.-', 'B': '-...', 'C': '-.-.', 'D': '-..', 'E': '.',\n",
    "    'F': '..-.', 'G': '--.', 'H': '....', 'I': '..', 'J': '.---',\n",
    "    'K': '-.-', 'L': '.-..', 'M': '--', 'N': '-.', 'O': '---',\n",
    "    'P': '.--.', 'Q': '--.-', 'R': '.-.', 'S': '...', 'T': '-',\n",
    "    'U': '..-', 'V': '...-', 'W': '.--', 'X': '-..-', 'Y': '-.--',\n",
    "    'Z': '--..', '0': '-----', '1': '.----', '2': '..---', '3': '...--',\n",
    "    '4': '....-', '5': '.....', '6': '-....', '7': '--...', '8': '---..',\n",
    "    '9': '----.',\n",
    "}\n",
    "\n",
    "texto = \"HOLA\"\n",
    "morse_codificado = ' '.join([morse_code[char] for char in texto.upper()])\n",
    "print(morse_codificado)\n"
   ]
  },
  {
   "cell_type": "markdown",
   "metadata": {},
   "source": [
    "### 7. Codificación Binaria:\n",
    "\n",
    "Descripción: Convierte datos en su representación binaria."
   ]
  },
  {
   "cell_type": "code",
   "execution_count": 43,
   "metadata": {},
   "outputs": [
    {
     "name": "stdout",
     "output_type": "stream",
     "text": [
      "0b101010\n"
     ]
    }
   ],
   "source": [
    "numero = 42\n",
    "binario_codificado = bin(numero)\n",
    "print(binario_codificado)"
   ]
  },
  {
   "cell_type": "markdown",
   "metadata": {},
   "source": [
    "### 8. Codificación Hexadecimal:\n",
    "\n",
    "Descripción: Convierte datos en su representación hexadecimal."
   ]
  },
  {
   "cell_type": "code",
   "execution_count": 44,
   "metadata": {},
   "outputs": [
    {
     "name": "stdout",
     "output_type": "stream",
     "text": [
      "0xff\n"
     ]
    }
   ],
   "source": [
    "numero = 255\n",
    "hexadecimal_codificado = hex(numero)\n",
    "print(hexadecimal_codificado)"
   ]
  },
  {
   "cell_type": "markdown",
   "metadata": {},
   "source": [
    "### 9. Codificación de Longitud Fija:\n",
    "\n",
    "Descripción: Representa datos en campos de longitud fija."
   ]
  },
  {
   "cell_type": "code",
   "execution_count": 45,
   "metadata": {},
   "outputs": [
    {
     "name": "stdout",
     "output_type": "stream",
     "text": [
      "['manzana', 'plátano', 'cereza', 'fecha ']\n"
     ]
    }
   ],
   "source": [
    "data = [\"manzana\", \"plátano\", \"cereza\", \"fecha\"]\n",
    "longitud_fija = 6\n",
    "datos_codificados = [palabra.ljust(longitud_fija) for palabra in data]\n",
    "print(datos_codificados)\n"
   ]
  },
  {
   "cell_type": "markdown",
   "metadata": {},
   "source": [
    "### 10. Codificación de Huffman:\n",
    "\n",
    "Descripción: Un algoritmo de compresión que codifica datos en función de la frecuencia de sus caracteres."
   ]
  },
  {
   "cell_type": "code",
   "execution_count": 46,
   "metadata": {},
   "outputs": [
    {
     "name": "stdout",
     "output_type": "stream",
     "text": [
      "a: 00\n",
      "h: 01\n",
      "l: 10\n",
      "o: 11\n"
     ]
    }
   ],
   "source": [
    "import heapq\n",
    "from collections import defaultdict\n",
    "\n",
    "def build_huffman_tree(data):\n",
    "    freq = defaultdict(int)\n",
    "    for char in data:\n",
    "        freq[char] += 1\n",
    "    heap = [[weight, [char, \"\"]] for char, weight in freq.items()]\n",
    "    heapq.heapify(heap)\n",
    "    while len(heap) > 1:\n",
    "        lo = heapq.heappop(heap)\n",
    "        hi = heapq.heappop(heap)\n",
    "        for pair in lo[1:]:\n",
    "            pair[1] = '0' + pair[1]\n",
    "        for pair in hi[1:]:\n",
    "            pair[1] = '1' + pair[1]\n",
    "        heapq.heappush(heap, [lo[0] + hi[0]] + lo[1:] + hi[1:])\n",
    "    return sorted(heapq.heappop(heap)[1:], key=lambda p: (len(p[-1]), p))\n",
    "\n",
    "texto = \"hola\"\n",
    "huffman_tree = build_huffman_tree(texto)\n",
    "for char, code in huffman_tree:\n",
    "    print(f'{char}: {code}')\n"
   ]
  }
 ],
 "metadata": {
  "kernelspec": {
   "display_name": "Python 3",
   "language": "python",
   "name": "python3"
  },
  "language_info": {
   "codemirror_mode": {
    "name": "ipython",
    "version": 3
   },
   "file_extension": ".py",
   "mimetype": "text/x-python",
   "name": "python",
   "nbconvert_exporter": "python",
   "pygments_lexer": "ipython3",
   "version": "3.11.3"
  }
 },
 "nbformat": 4,
 "nbformat_minor": 2
}
